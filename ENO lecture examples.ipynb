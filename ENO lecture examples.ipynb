{
 "cells": [
  {
   "cell_type": "code",
   "execution_count": null,
   "metadata": {},
   "outputs": [],
   "source": [
    "import numpy as np\n",
    "import pylab as plt\n",
    "from matplotlib.animation import FuncAnimation\n",
    "from matplotlib import rc\n",
    "from IPython.display import HTML\n",
    "rc('animation',html='html5')"
   ]
  },
  {
   "cell_type": "markdown",
   "metadata": {},
   "source": [
    "All of the third-order interpolations, plus the set of weights corresponding to the five-point fifth-order interpolant."
   ]
  },
  {
   "cell_type": "code",
   "execution_count": null,
   "metadata": {},
   "outputs": [],
   "source": [
    "# leftmost (XXX*)\n",
    "il = lambda s: 0.125 * (15*s[2] - 10*s[1] + 3*s[0])\n",
    "\n",
    "# soft left (XX*X)\n",
    "ic = lambda s: 0.125 * (3*s[3] +6*s[2] - s[1])\n",
    "\n",
    "# soft right (X*XX)\n",
    "ir = lambda s: 0.125 * (-s[4] + 6*s[3] + 3*s[2])\n",
    "\n",
    "# collection of all three\n",
    "intps = lambda s: np.array([il(s),ic(s),ir(s)])\n",
    "\n",
    "# five-point centered\n",
    "w0 = np.array([1/16,5/8,5/16])"
   ]
  },
  {
   "cell_type": "markdown",
   "metadata": {},
   "source": [
    "Sharpness parameters and weights"
   ]
  },
  {
   "cell_type": "code",
   "execution_count": null,
   "metadata": {},
   "outputs": [],
   "source": [
    "# from http://www.scholarpedia.org/article/WENO_methods\n",
    "# more sophisticated sharpness parameter\n",
    "betas= lambda s: np.array([\n",
    "   4*s[0]**2-19*s[0]*s[1]+25*s[1]**2+11*s[0]*s[2]-31*s[1]*s[2]+10*s[2]**2,\n",
    "   4*s[1]**2-13*s[1]*s[2]+13*s[2]**2+ 5*s[1]*s[3]-13*s[2]*s[3]+ 4*s[3]**2,\n",
    "  10*s[2]**2-31*s[2]*s[3]+25*s[3]**2+11*s[2]*s[4]-19*s[3]*s[4]+ 4*s[4]**2\n",
    "])/3\n",
    "\n",
    "# get an [nx3] array of betas given an [nx5] stencil array\n",
    "beta_arr = lambda stencils : np.array([betas(s) for s in stencils])\n",
    "\n",
    "# construct a set of weights given a trio of betas\n",
    "eps = 1e-6\n",
    "def wts(bs):\n",
    "    wgh = w0/(eps+bs)**2\n",
    "    wgh /= np.sum(wgh)\n",
    "    return wgh"
   ]
  },
  {
   "cell_type": "markdown",
   "metadata": {},
   "source": [
    "Functions that take in an [nx5] array of stencil values and return length-n arrays of interpolant choice (ENO), weights, and interpolant values."
   ]
  },
  {
   "cell_type": "code",
   "execution_count": null,
   "metadata": {},
   "outputs": [],
   "source": [
    "# given an array of length-5 stencils, return the index [0,2] of the\n",
    "# length-three stencil corresponding to the smallest beta\n",
    "min_beta = lambda stencils: np.argmin(beta_arr(stencils),axis=1)\n",
    "\n",
    "# given an array of length-5 stencils, return a [nx3] array of the\n",
    "# weights as calculated from the betas\n",
    "weights = lambda stencils: np.array([wts(b) for b in beta_arr(stencils)])\n",
    "\n",
    "# given an array of length-5 stencils, return a [nx3] array of the\n",
    "# third-order interpolations                                   \n",
    "interps = lambda stencils: np.array([intps(s) for s in stencils])"
   ]
  },
  {
   "cell_type": "markdown",
   "metadata": {},
   "source": [
    "ENO and WENO methods:"
   ]
  },
  {
   "cell_type": "code",
   "execution_count": null,
   "metadata": {},
   "outputs": [],
   "source": [
    "######################################\n",
    "# ENO method\n",
    "#\n",
    "# f: array of function values (padded with 2 ghost values on either side)\n",
    "# v_fun: velocity function v = v(f)\n",
    "# h: grid spacing step size\n",
    "# fl: left boundary function values\n",
    "######################################\n",
    "def eno(f,v_fun,h,fl):\n",
    "    \n",
    "    # n x 5 array of stencils for each point\n",
    "    stens = np.array([f[(i-2):(i+3)] for i in range(2,len(f)-2)])\n",
    "    \n",
    "    # set of interpolated values\n",
    "    ints = interps(stens)\n",
    "    \n",
    "    # which index has least beta for each set of stencils\n",
    "    ind = min_beta(stens)\n",
    "    \n",
    "    # interpolated values w/boundaries\n",
    "    f_int = np.zeros(len(f)-3)\n",
    "    f_int[0] = fl\n",
    "    \n",
    "    # plug in vals with smallest beta\n",
    "    f_int[1:] = ints[np.arange(len(ints)),ind]\n",
    "    \n",
    "    # construct fluxes\n",
    "    q_int = f_int * v_fun(f_int)\n",
    "    \n",
    "    # derivative\n",
    "    return np.diff(q_int)/h"
   ]
  },
  {
   "cell_type": "code",
   "execution_count": null,
   "metadata": {},
   "outputs": [],
   "source": [
    "######################################\n",
    "# WENO method\n",
    "#\n",
    "# f: array of function values (padded with 2 ghost values on either side)\n",
    "# v_fun: velocity function v = v(f)\n",
    "# h: grid spacing step size\n",
    "# fl: left boundary function values\n",
    "######################################\n",
    "def weno(f,v_fun,h,fl):\n",
    "        \n",
    "    # n x 5 array of stencils for each point\n",
    "    stens = np.array([f[(i-2):(i+3)] for i in range(2,len(f)-2)])\n",
    "    \n",
    "    # set of interpolated values\n",
    "    ints = interps(stens)\n",
    "    \n",
    "    # beta-dependent weights for each stencil\n",
    "    wgh = weights(stens)\n",
    "    \n",
    "    # interpolated values w/boundaries\n",
    "    f_int = np.zeros(len(f)-3)\n",
    "    f_int[0] = fl\n",
    "    \n",
    "    # plug in dot product of values with weights\n",
    "    f_int[1:] = np.sum(ints*wgh,axis=1)\n",
    "    \n",
    "    # construct fluxes\n",
    "    q_int = f_int * v_fun(f_int)\n",
    "    \n",
    "    # derivative\n",
    "    return np.diff(q_int)/h"
   ]
  },
  {
   "cell_type": "markdown",
   "metadata": {},
   "source": [
    "Function for making an animated GIF of a solution"
   ]
  },
  {
   "cell_type": "code",
   "execution_count": null,
   "metadata": {},
   "outputs": [],
   "source": [
    "####################################\n",
    "# MAKE_ANIM\n",
    "#\n",
    "# v: velocity function v=v(f)\n",
    "# f0: initial function f0=f0(x)\n",
    "# N:  number of points\n",
    "# L:  size of domain\n",
    "# fl:  left boundary function value\n",
    "# fr:  right boundary function value\n",
    "# dt: time step size\n",
    "# T: simulation length\n",
    "# no: which non-oscillatory method to use\n",
    "#####################################\n",
    "def make_anim(v,f0,N=100,L=10,fl=0,fr=0,dt=0.0123,T=5,no=eno):\n",
    "    \n",
    "    # spatial values\n",
    "    xx = (np.arange(N,dtype=np.float64)+0.5)*L/N\n",
    "    \n",
    "    # allocate / initialize function values\n",
    "    fm = np.zeros(len(xx)+4,dtype=np.float64)\n",
    "    fm[2:-2] = f0(xx)\n",
    "    \n",
    "    # allocate plot space\n",
    "    fig,ax = plt.subplots()\n",
    "    label = 'time = {:3.1f}'.format(0)\n",
    "    ax.set_xlabel(label)\n",
    "    plt.tight_layout()\n",
    "    plt.close()\n",
    "    orig, = ax.plot(xx,fm[2:-2],linewidth=4);\n",
    "    line, = ax.plot(xx,fm[2:-2],linewidth=4);\n",
    "    \n",
    "    # how many frames to simulate?\n",
    "    n_frs = int(T/dt)\n",
    "    \n",
    "    # update function for gif\n",
    "    def update(i):\n",
    "        \n",
    "        # label current time\n",
    "        label = 'time = {:3.1f}'.format(i*dt)\n",
    "        ax.set_xlabel(label)\n",
    "\n",
    "        # set function ghost values\n",
    "        fm[:2]  = fl\n",
    "        fm[-2:] = fr\n",
    "        \n",
    "        # update using d/dt = -dq/dx\n",
    "        fm[2:-2] -= dt*no(fm,v,L/N,fl)\n",
    "        \n",
    "        # update line data in plot\n",
    "        line.set_ydata(fm[2:-2]);\n",
    "        return line,\n",
    "    \n",
    "    # create animation\n",
    "    return FuncAnimation(fig,update,frames=np.arange(n_frs),interval=dt*1000,blit=True)"
   ]
  },
  {
   "cell_type": "markdown",
   "metadata": {},
   "source": [
    "Velocity functions:"
   ]
  },
  {
   "cell_type": "code",
   "execution_count": null,
   "metadata": {},
   "outputs": [],
   "source": [
    "# constant velocity\n",
    "v_const_fun = lambda c : lambda f : c*np.ones(f.shape,np.float64)\n",
    "\n",
    "# Burgers' equation\n",
    "v_burg_fun = lambda s : lambda f : s*f"
   ]
  },
  {
   "cell_type": "markdown",
   "metadata": {},
   "source": [
    "Initial conditions:"
   ]
  },
  {
   "cell_type": "code",
   "execution_count": null,
   "metadata": {},
   "outputs": [],
   "source": [
    "# step / jump function\n",
    "def f_jump(x,lo,hi,xc):\n",
    "    \n",
    "    f = lo*np.ones(x.shape)\n",
    "    f[x>xc] += (hi-lo)\n",
    "    \n",
    "    return f\n",
    "\n",
    "# customize\n",
    "f_jump_fun = lambda l,h,c: lambda x: f_jump(x,l,h,c)\n",
    "\n",
    "# triangular shape\n",
    "def f_tri(x,lo,hi,height,base):\n",
    "    \n",
    "    avg = 0.5*(lo+hi)\n",
    "    mid = np.logical_and(x>lo,x<hi)\n",
    "    slope = 2*height/(hi-lo)\n",
    "    f = np.zeros(x.shape)\n",
    "    f[mid] = height - slope*np.abs(x[mid]-avg)\n",
    "    return f + base\n",
    "\n",
    "# customize\n",
    "f_tri_fun = lambda l,h,ht,bs : lambda x: f_tri(x,l,h,ht,bs)\n",
    "\n",
    "# sin wave hump\n",
    "def f_sin(x,base,hgt,x_lo,x_hi):\n",
    "    \n",
    "    Dx = x_hi-x_lo\n",
    "    mid = np.logical_and(x>x_lo,x<x_hi)\n",
    "    f = np.ones(x.shape) * base\n",
    "    f[mid] += hgt * np.sin(np.pi * (x[mid]-x_lo)/Dx)**2\n",
    "    return f\n",
    "\n",
    "# customize\n",
    "f_sin_fun = lambda b,h,lo,hi : lambda x : f_sin(x,b,h,lo,hi)"
   ]
  },
  {
   "cell_type": "markdown",
   "metadata": {},
   "source": [
    "Constant velocity, initial step function:"
   ]
  },
  {
   "cell_type": "code",
   "execution_count": null,
   "metadata": {
    "scrolled": false
   },
   "outputs": [],
   "source": [
    "# N 20 200\n",
    "\n",
    "make_anim(v_const_fun(1),f_jump_fun(0,1,3),T=3,fr=1,N=100,no=weno)"
   ]
  },
  {
   "cell_type": "markdown",
   "metadata": {},
   "source": [
    "Constant velocity, initially triangular:"
   ]
  },
  {
   "cell_type": "code",
   "execution_count": null,
   "metadata": {},
   "outputs": [],
   "source": [
    "# N 40 200\n",
    "# dt def 0.007\n",
    "make_anim(v_const_fun(1),f_tri_fun(1,3,5,0),T=5,N=200,dt=0.007,L=10)"
   ]
  },
  {
   "cell_type": "markdown",
   "metadata": {},
   "source": [
    "Burgers' velocity with triangle:"
   ]
  },
  {
   "cell_type": "code",
   "execution_count": null,
   "metadata": {},
   "outputs": [],
   "source": [
    "# N 100\n",
    "# dt 0.005\n",
    "make_anim(v_burg_fun(0.2),f_tri_fun(1,3,5,2),T=6,dt=0.005,N=100,fl=2,fr=2)"
   ]
  },
  {
   "cell_type": "markdown",
   "metadata": {},
   "source": [
    "Burgers' velocity and sine hump:"
   ]
  },
  {
   "cell_type": "code",
   "execution_count": null,
   "metadata": {},
   "outputs": [],
   "source": [
    "# N 150\n",
    "# dt 0.005\n",
    "make_anim(v_burg_fun(0.2),f_sin_fun(1,10,0,2),fl=1,fr=1,N=150,dt=0.005)"
   ]
  },
  {
   "cell_type": "code",
   "execution_count": null,
   "metadata": {},
   "outputs": [],
   "source": [
    "v_cars = lambda f:1-f"
   ]
  },
  {
   "cell_type": "code",
   "execution_count": null,
   "metadata": {},
   "outputs": [],
   "source": [
    "make_anim(v_cars,jump_fun(0.8,0.95,8),fl=0.8,fr=0.95,T=2,L=10,N=40,dt=0.1,no=weno)"
   ]
  },
  {
   "cell_type": "code",
   "execution_count": null,
   "metadata": {},
   "outputs": [],
   "source": []
  }
 ],
 "metadata": {
  "kernelspec": {
   "display_name": "Python 3",
   "language": "python",
   "name": "python3"
  },
  "language_info": {
   "codemirror_mode": {
    "name": "ipython",
    "version": 3
   },
   "file_extension": ".py",
   "mimetype": "text/x-python",
   "name": "python",
   "nbconvert_exporter": "python",
   "pygments_lexer": "ipython3",
   "version": "3.8.6"
  }
 },
 "nbformat": 4,
 "nbformat_minor": 4
}
